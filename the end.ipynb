{
 "cells": [
  {
   "cell_type": "code",
   "execution_count": 1,
   "metadata": {},
   "outputs": [
    {
     "name": "stdout",
     "output_type": "stream",
     "text": [
      "Overwriting app.py\n"
     ]
    }
   ],
   "source": [
    "%%writefile app.py\n",
    "import streamlit as st\n",
    "import numpy as np\n",
    "import pandas as pd\n",
    "import matplotlib.pyplot as plt\n",
    "import matplotlib.cm as cm\n",
    "import seaborn as sns\n",
    "\n",
    "page_bg_color = \"\"\"\n",
    "<style>\n",
    "/* تغيير خلفية التطبيق بالكامل */\n",
    "[data-testid=\"stAppViewContainer\"] {\n",
    "background-color: #1e1e1e; /* لون داكن */\n",
    "}\n",
    "/* تغيير لون الشريط الجانبي */\n",
    "[data-testid=\"stSidebar\"] {background-color: #333333; /* لون أغمق */}\n",
    "\n",
    "/* تغيير لون العناوين */\n",
    "h1, h2, h3, h4, h5, h6 {color: #FF6500;}\n",
    "\n",
    "/* تغيير لون Selectbox */\n",
    "select {background-color: #444444 !important; /* لون داكن */\n",
    "color: #FF6500 !important; /* لون النص */\n",
    "border-radius: 5px !important; /* تدوير الحواف */\n",
    "padding: 5px !important;}\n",
    "\n",
    "/* تغيير لون الأزرار */\n",
    "button {background-color: #3C3D37 !important; /* لون أزرق */\n",
    "color: #FF6500 !important; /* لون النص داخل الزر */\n",
    "border-radius: 10px !important; /* تدوير الحواف */\n",
    "}\n",
    "/* تغيير لون النص */\n",
    "body, p, div {color: #FF6500;}\n",
    "\n",
    "/* تغيير لون الشريط العلوي */\n",
    "header {background-color: #1e1e1e !important; /* لون داكن */}\n",
    "/* إخفاء الخط العلوي الأحمر */\n",
    "[data-testid=\"stHeader\"] {background-color: #1e1e1e !important;}\n",
    "\n",
    "/* تغيير لون خلفية القائمة المنسدلة */\n",
    "div[data-testid=\"stSelectbox\"] div[role=\"combobox\"] {\n",
    "background-color: black !important; /* الخلفية سوداء */\n",
    "color: white !important; /* النص أبيض */\n",
    "border-radius: 5px !important; /* تدوير الحواف */\n",
    "padding: 5px !important;\n",
    "}\n",
    "\n",
    "/* تغيير لون العناصر داخل القائمة المنسدلة */\n",
    "div[data-testid=\"stSelectbox\"] div[data-testid=\"stDropdownContainer\"] {\n",
    "background-color: black !important; /* الخلفية سوداء */\n",
    "color: white !important; /* النص أبيض */\n",
    "}\n",
    "\n",
    "/* تغيير لون العناصر عند التحديد */\n",
    "div[data-testid=\"stSelectbox\"] div[data-testid=\"stDropdownContainer\"] div {\n",
    "background-color: black !important;\n",
    "color: white !important;\n",
    "}\n",
    "\n",
    "\n",
    "</style>\n",
    "\"\"\"\n",
    "st.markdown(page_bg_color, unsafe_allow_html=True)\n",
    "\n",
    "def main_page():\n",
    "\n",
    "\n",
    "    st.title(\"skills analsis\")\n",
    "    df = pd.read_csv('skill_counts.csv', encoding='ISO-8859-1')\n",
    "\n",
    "\n",
    "    num_skills = st.sidebar.slider('Select the number of skills to display', min_value=1, max_value=50, value=20)\n",
    "\n",
    "    if st.sidebar.button('Check'):\n",
    "\n",
    "        skill_counts_top = df.head(num_skills)\n",
    "        \n",
    "        plt.figure(figsize=(10, 5))\n",
    "        skill_counts_top.set_index('skill', inplace=True)\n",
    "        colors = sns.color_palette(\"Oranges\", num_skills)\n",
    "        colors = list(reversed(sns.color_palette(\"Oranges\", num_skills)))\n",
    "        ax = plt.gca()\n",
    "        plt.gca().set_facecolor('#1e1e1e') \n",
    "        fig = plt.gcf()\n",
    "        fig.patch.set_facecolor('#1e1e1e')\n",
    "        skill_counts_top['count'].plot(kind='bar', title=f'Top {num_skills} Skills', color=colors)\n",
    "        plt.xlabel('Skill')\n",
    "        plt.ylabel('Count')\n",
    "        plt.xticks(rotation=90)\n",
    "\n",
    "        st.pyplot(plt)\n",
    "\n",
    "def second_page():\n",
    "    st.title(\"Governorates Analysis\")\n",
    "\n",
    "\n",
    "    colors = sns.color_palette(\"Oranges\", 10)\n",
    "    main_color = colors[5]\n",
    "\n",
    "    df2 = pd.read_csv('test.csv', encoding='ISO-8859-1')\n",
    "    governorate = df2['governorate'].unique()\n",
    "    governorates = st.selectbox('Select the Governorates', governorate)\n",
    "\n",
    "    col1, col2 = st.columns(2)\n",
    "    filtered_df = df2[df2['governorate'] == governorates]\n",
    "\n",
    "    with col1:\n",
    "\n",
    "        plt.figure(figsize=(20, 12))\n",
    "        ax = plt.gca()\n",
    "        plt.gca().set_facecolor('#1e1e1e')\n",
    "        fig = plt.gcf()\n",
    "        fig.patch.set_facecolor('#1e1e1e')\n",
    "        ax.xaxis.label.set_color('white')\n",
    "        ax.yaxis.label.set_color('white')\n",
    "        ax.tick_params(axis='x', colors='white')\n",
    "        ax.tick_params(axis='y', colors='white')\n",
    "        ax.title.set_color('white')\n",
    "        get_top_10_companies_by_average_experience = (filtered_df.groupby('company_name')['Average_Experience'].mean().sort_values(ascending=False).head(10))\n",
    "\n",
    "        colors_exp = sns.color_palette(\"Oranges\", len(get_top_10_companies_by_average_experience))[::-1]\n",
    "        \n",
    "        get_top_10_companies_by_average_experience.plot(kind='bar', title='Top 10 Companies by Average Experience',color=colors_exp)\n",
    "        st.pyplot(plt)\n",
    "\n",
    "\n",
    "        fig, ax = plt.subplots(figsize=(12, 6))\n",
    "        ax.set_facecolor('#1e1e1e')\n",
    "        fig.patch.set_facecolor('#1e1e1e')\n",
    "        ax.xaxis.label.set_color('white')\n",
    "        ax.yaxis.label.set_color('white')\n",
    "        ax.tick_params(axis='x', colors='white')\n",
    "        ax.tick_params(axis='y', colors='white')\n",
    "        ax.title.set_color('white')\n",
    "        filtered_df.plot(kind='scatter', x='min_experience', y='max_experience', s=32, alpha=0.8, color=main_color, ax=ax)\n",
    "\n",
    "        ax.spines[['top', 'right']].set_visible(False)\n",
    "        st.pyplot(fig)\n",
    "\n",
    "\n",
    "    with col2:\n",
    "\n",
    "        plt.figure(figsize=(12, 6))\n",
    "        ax = plt.gca()\n",
    "        plt.gca().set_facecolor('#1e1e1e')\n",
    "        fig = plt.gcf()\n",
    "        fig.patch.set_facecolor('#1e1e1e')\n",
    "        ax.xaxis.label.set_color('white')\n",
    "        ax.yaxis.label.set_color('white')\n",
    "        ax.tick_params(axis='x', colors='white')\n",
    "        ax.tick_params(axis='y', colors='white')\n",
    "        ax.title.set_color('white')\n",
    "        exp_counts = filtered_df['Experience'].value_counts()\n",
    "        colors_exp_dist = list(reversed(sns.color_palette(\"Oranges\", len(exp_counts))))\n",
    "        \n",
    "        exp_counts.plot(kind='bar', title=f'Experience Distribution in {governorates}',color=colors_exp_dist)\n",
    "        st.pyplot(plt)\n",
    "\n",
    "        plt.figure(figsize=(12, 6))\n",
    "        ax = plt.gca()\n",
    "        plt.gca().set_facecolor('#1e1e1e')\n",
    "        fig = plt.gcf()\n",
    "        fig.patch.set_facecolor('#1e1e1e')\n",
    "        ax.xaxis.label.set_color('white')\n",
    "        ax.yaxis.label.set_color('white')\n",
    "        ax.tick_params(axis='x', colors='white')\n",
    "        ax.tick_params(axis='y', colors='white')\n",
    "        ax.title.set_color('white')\n",
    "        top_ten_companies = filtered_df['company_name'].value_counts().head(10)\n",
    "        colors_top_companies = list(reversed(sns.color_palette(\"Oranges\", len(exp_counts))))\n",
    "        \n",
    "        top_ten_companies.plot(kind='bar', title='Top 10 Companies',color=colors_top_companies)\n",
    "        st.pyplot(plt)\n",
    "    filtered_df1 = filtered_df.drop(columns=['location', 'skills','min_experience','max_experience','Average_Experience'])\n",
    "    styled_df = filtered_df1.style.set_properties(\n",
    "        **{\n",
    "            'background-color': '#1e1e1e', \n",
    "            'color': '#FF6500',  \n",
    "            'border-color': '#1e1e1e' \n",
    "        }\n",
    "    ).set_table_styles(\n",
    "        [\n",
    "            {\"selector\": \"thead th\", \"props\": [(\"background-color\", \"#333\"), (\"color\", \"white\"), (\"font-size\", \"14px\"), (\"text-align\", \"center\")]}\n",
    "        ]\n",
    "    ).hide(axis=\"index\")\n",
    "\n",
    "\n",
    "    table_style = \"\"\"\n",
    "        <style>\n",
    "        table { margin-left: auto; margin-right: auto; width: 80%; }\n",
    "        th, td { text-align: center; padding: 10px; }\n",
    "        </style>\n",
    "    \"\"\"\n",
    "    st.markdown(table_style, unsafe_allow_html=True)\n",
    "    st.write(styled_df.to_html(), unsafe_allow_html=True)\n",
    "\n",
    "page = st.sidebar.selectbox(\"Select the type of analysis\", [\"skills analysis\", \"Governorates analysis\"])\n",
    "\n",
    "if page == \"skills analysis\":\n",
    "    main_page()\n",
    "else:\n",
    "    second_page()"
   ]
  },
  {
   "cell_type": "code",
   "execution_count": 6,
   "metadata": {},
   "outputs": [
    {
     "name": "stdout",
     "output_type": "stream",
     "text": [
      "^C\n"
     ]
    }
   ],
   "source": [
    "! streamlit run app.py"
   ]
  },
  {
   "cell_type": "code",
   "execution_count": 2,
   "metadata": {},
   "outputs": [],
   "source": [
    "from pyngrok import ngrok\n",
    "ngrok.kill()\n",
    "NGROK_AUTH_TOKEN=\"2uMtr6R6MPfK4js0q2SS8OOX98M_Jpw4SAdZgLsjhc8PynCg\"\n",
    "ngrok.set_auth_token(NGROK_AUTH_TOKEN)"
   ]
  },
  {
   "cell_type": "code",
   "execution_count": 3,
   "metadata": {},
   "outputs": [
    {
     "data": {
      "text/plain": [
       "<NgrokTunnel: \"https://3a65-197-60-111-207.ngrok-free.app\" -> \"http://localhost:8502\">"
      ]
     },
     "execution_count": 3,
     "metadata": {},
     "output_type": "execute_result"
    }
   ],
   "source": [
    "ngrok.connect(8502)"
   ]
  },
  {
   "cell_type": "code",
   "execution_count": null,
   "metadata": {},
   "outputs": [
    {
     "name": "stdout",
     "output_type": "stream",
     "text": [
      "['Solarize_Light2', '_classic_test_patch', '_mpl-gallery', '_mpl-gallery-nogrid', 'bmh', 'classic', 'dark_background', 'fast', 'fivethirtyeight', 'ggplot', 'grayscale', 'petroff10', 'seaborn-v0_8', 'seaborn-v0_8-bright', 'seaborn-v0_8-colorblind', 'seaborn-v0_8-dark', 'seaborn-v0_8-dark-palette', 'seaborn-v0_8-darkgrid', 'seaborn-v0_8-deep', 'seaborn-v0_8-muted', 'seaborn-v0_8-notebook', 'seaborn-v0_8-paper', 'seaborn-v0_8-pastel', 'seaborn-v0_8-poster', 'seaborn-v0_8-talk', 'seaborn-v0_8-ticks', 'seaborn-v0_8-white', 'seaborn-v0_8-whitegrid', 'tableau-colorblind10']\n"
     ]
    }
   ],
   "source": [
    "\n"
   ]
  },
  {
   "cell_type": "code",
   "execution_count": null,
   "metadata": {},
   "outputs": [
    {
     "name": "stdout",
     "output_type": "stream",
     "text": [
      "Collecting seaborn\n",
      "  Downloading seaborn-0.13.2-py3-none-any.whl.metadata (5.4 kB)\n",
      "Requirement already satisfied: numpy!=1.24.0,>=1.20 in c:\\users\\maher\\appdata\\local\\programs\\python\\python310\\lib\\site-packages (from seaborn) (1.26.2)\n",
      "Requirement already satisfied: pandas>=1.2 in c:\\users\\maher\\appdata\\local\\programs\\python\\python310\\lib\\site-packages (from seaborn) (2.2.3)\n",
      "Requirement already satisfied: matplotlib!=3.6.1,>=3.4 in c:\\users\\maher\\appdata\\local\\programs\\python\\python310\\lib\\site-packages (from seaborn) (3.10.0)\n",
      "Requirement already satisfied: contourpy>=1.0.1 in c:\\users\\maher\\appdata\\local\\programs\\python\\python310\\lib\\site-packages (from matplotlib!=3.6.1,>=3.4->seaborn) (1.3.1)\n",
      "Requirement already satisfied: cycler>=0.10 in c:\\users\\maher\\appdata\\local\\programs\\python\\python310\\lib\\site-packages (from matplotlib!=3.6.1,>=3.4->seaborn) (0.12.1)\n",
      "Requirement already satisfied: fonttools>=4.22.0 in c:\\users\\maher\\appdata\\local\\programs\\python\\python310\\lib\\site-packages (from matplotlib!=3.6.1,>=3.4->seaborn) (4.55.3)\n",
      "Requirement already satisfied: kiwisolver>=1.3.1 in c:\\users\\maher\\appdata\\local\\programs\\python\\python310\\lib\\site-packages (from matplotlib!=3.6.1,>=3.4->seaborn) (1.4.8)\n",
      "Requirement already satisfied: packaging>=20.0 in c:\\users\\maher\\appdata\\local\\programs\\python\\python310\\lib\\site-packages (from matplotlib!=3.6.1,>=3.4->seaborn) (21.3)\n",
      "Requirement already satisfied: pillow>=8 in c:\\users\\maher\\appdata\\local\\programs\\python\\python310\\lib\\site-packages (from matplotlib!=3.6.1,>=3.4->seaborn) (9.2.0)\n",
      "Requirement already satisfied: pyparsing>=2.3.1 in c:\\users\\maher\\appdata\\local\\programs\\python\\python310\\lib\\site-packages (from matplotlib!=3.6.1,>=3.4->seaborn) (3.0.8)\n",
      "Requirement already satisfied: python-dateutil>=2.7 in c:\\users\\maher\\appdata\\local\\programs\\python\\python310\\lib\\site-packages (from matplotlib!=3.6.1,>=3.4->seaborn) (2.8.2)\n",
      "Requirement already satisfied: pytz>=2020.1 in c:\\users\\maher\\appdata\\local\\programs\\python\\python310\\lib\\site-packages (from pandas>=1.2->seaborn) (2024.2)\n",
      "Requirement already satisfied: tzdata>=2022.7 in c:\\users\\maher\\appdata\\local\\programs\\python\\python310\\lib\\site-packages (from pandas>=1.2->seaborn) (2024.2)\n",
      "Requirement already satisfied: six>=1.5 in c:\\users\\maher\\appdata\\local\\programs\\python\\python310\\lib\\site-packages (from python-dateutil>=2.7->matplotlib!=3.6.1,>=3.4->seaborn) (1.16.0)\n",
      "Downloading seaborn-0.13.2-py3-none-any.whl (294 kB)\n",
      "   -------------------------------------- 294.9/294.9 kB 479.2 kB/s eta 0:00:00\n",
      "Installing collected packages: seaborn\n",
      "Successfully installed seaborn-0.13.2\n"
     ]
    },
    {
     "name": "stderr",
     "output_type": "stream",
     "text": [
      "\n",
      "[notice] A new release of pip is available: 24.0 -> 25.0.1\n",
      "[notice] To update, run: python.exe -m pip install --upgrade pip\n"
     ]
    }
   ],
   "source": []
  },
  {
   "cell_type": "code",
   "execution_count": null,
   "metadata": {},
   "outputs": [],
   "source": []
  }
 ],
 "metadata": {
  "kernelspec": {
   "display_name": "Python 3",
   "language": "python",
   "name": "python3"
  },
  "language_info": {
   "codemirror_mode": {
    "name": "ipython",
    "version": 3
   },
   "file_extension": ".py",
   "mimetype": "text/x-python",
   "name": "python",
   "nbconvert_exporter": "python",
   "pygments_lexer": "ipython3",
   "version": "3.10.4"
  }
 },
 "nbformat": 4,
 "nbformat_minor": 2
}
